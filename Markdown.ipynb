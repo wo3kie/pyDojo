{
 "cells": [
  {
   "cell_type": "markdown",
   "metadata": {},
   "source": [
    "# Header 1\n",
    "## Header 2\n",
    "### Header 3"
   ]
  },
  {
   "cell_type": "markdown",
   "metadata": {},
   "source": [
    "*italic*  \n",
    "**bold**  "
   ]
  },
  {
   "cell_type": "markdown",
   "metadata": {},
   "source": [
    "* list 1  \n",
    "* list 2    \n",
    "Indentation\n",
    "* list 3  \n",
    "    * list 3.1\n",
    "    * list 3.2\n",
    "        * list 3.2.1\n",
    "    * list 3.3"
   ]
  },
  {
   "cell_type": "markdown",
   "metadata": {},
   "source": [
    "1. list 1  \n",
    "2. list 2  \n",
    "    - list 2.1\n",
    "        - list 2.1.1\n",
    "3. list 3  "
   ]
  },
  {
   "cell_type": "markdown",
   "metadata": {},
   "source": [
    "Link [here](https://github.com/wo3kie/)."
   ]
  },
  {
   "cell_type": "markdown",
   "metadata": {},
   "source": [
    "Code inplace `int main(int argc, char* argv[])`\n",
    "\n",
    "Some more code here\n",
    "```c\n",
    "int main(int argc, char* argv[]){\n",
    "    return 0;\n",
    "}\n",
    "```"
   ]
  },
  {
   "cell_type": "markdown",
   "metadata": {},
   "source": [
    "Horizontal line\n",
    "- - -"
   ]
  },
  {
   "cell_type": "markdown",
   "metadata": {},
   "source": [
    "$e^{i\\pi} + 1 = 0$"
   ]
  },
  {
   "cell_type": "markdown",
   "metadata": {},
   "source": [
    "$$e^{i\\pi} + 1 = 0$$"
   ]
  },
  {
   "cell_type": "markdown",
   "metadata": {},
   "source": [
    "$e^x=\\sum_{i=0}^\\infty \\frac{1}{i!}x^i$"
   ]
  },
  {
   "cell_type": "markdown",
   "metadata": {},
   "source": [
    "$$e^x=\\sum_{i=0}^\\infty \\frac{1}{i!}x^i$$"
   ]
  },
  {
   "cell_type": "markdown",
   "metadata": {},
   "source": [
    "| This | is   |\n",
    "|------|------|\n",
    "|   a  | table|"
   ]
  },
  {
   "cell_type": "markdown",
   "metadata": {},
   "source": [
    "$\\int x^xdx$  \n",
    "  \n",
    "$\\int_{0}^{\\pi} xdx$"
   ]
  },
  {
   "cell_type": "markdown",
   "metadata": {},
   "source": [
    "$\\frac{\\mathrm d}{\\mathrm d x}\\left(kg(x)\\right)$  \n",
    "  \n",
    "$\\frac{\\partial}{\\partial x} xy$"
   ]
  },
  {
   "cell_type": "markdown",
   "metadata": {},
   "source": [
    "\\begin{matrix}\n",
    "1 & -2 & 3 & -4 \\\\\n",
    "5 & 6 & 7 & 8 \\\\\n",
    "9 & -0 & 1 & 2 \\\\\n",
    "3 & 4 & 5 & -6\n",
    "\\end{matrix}  \n",
    "  \n",
    "\\begin{pmatrix}\n",
    "1 & -2 & 3 & -4 \\\\\n",
    "5 & 6 & 7 & 8 \\\\\n",
    "9 & -0 & 1 & 2 \\\\\n",
    "3 & 4 & 5 & -6\n",
    "\\end{pmatrix}  \n"
   ]
  },
  {
   "cell_type": "markdown",
   "metadata": {},
   "source": [
    "$\\langle bra \\vert$  \n",
    "  \n",
    "$\\vert ket \\rangle$  \n",
    "  \n",
    "$\\langle bra \\vert ket \\rangle$  \n",
    "  \n",
    "$\\vert x_1 \\rangle \\otimes \\vert x_2 \\rangle$"
   ]
  }
 ],
 "metadata": {
  "kernelspec": {
   "display_name": "Python 3",
   "language": "python",
   "name": "python3"
  },
  "language_info": {
   "codemirror_mode": {
    "name": "ipython",
    "version": 3
   },
   "file_extension": ".py",
   "mimetype": "text/x-python",
   "name": "python",
   "nbconvert_exporter": "python",
   "pygments_lexer": "ipython3",
   "version": "3.5.2"
  }
 },
 "nbformat": 4,
 "nbformat_minor": 2
}
